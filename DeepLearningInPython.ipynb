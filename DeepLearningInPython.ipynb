{
 "cells": [
  {
   "cell_type": "code",
   "execution_count": 15,
   "metadata": {
    "collapsed": false
   },
   "outputs": [
    {
     "name": "stdout",
     "output_type": "stream",
     "text": [
      "[[ 0.21801638  0.33018401  0.45179961]\n",
      " [ 0.25174817  0.33347858  0.41477324]]\n",
      "[ 0.23280267  0.35233671  0.41486062]\n"
     ]
    }
   ],
   "source": [
    "import numpy as np\n",
    "x = np.random.random((2,3))\n",
    "rowmax = x.max(axis = 1, keepdims = True)\n",
    "x = x - rowmax\n",
    "exp = np.exp(x)\n",
    "rowsum = exp.sum(axis = 1,keepdims = True)\n",
    "print exp / rowsum\n",
    "\n",
    "x = np.random.random(3)\n",
    "maxval = x.max()\n",
    "x = x - maxval\n",
    "exp = np.exp(x)\n",
    "sums = exp.sum()\n",
    "print exp / sums"
   ]
  },
  {
   "cell_type": "code",
   "execution_count": 18,
   "metadata": {
    "collapsed": false
   },
   "outputs": [
    {
     "name": "stdout",
     "output_type": "stream",
     "text": [
      "Running basic tests...\n",
      "[ 0.26894142  0.73105858]\n",
      "[[ 0.26894142  0.73105858]\n",
      " [ 0.26894142  0.73105858]]\n",
      "[[ 0.73105858  0.26894142]]\n",
      "You should verify these results!\n",
      "\n"
     ]
    }
   ],
   "source": [
    "import numpy as np\n",
    "import random\n",
    "\n",
    "def softmax(x):\n",
    "    \"\"\"\n",
    "    Compute the softmax function for each row of the input x.\n",
    "\n",
    "    It is crucial that this function is optimized for speed because\n",
    "    it will be used frequently in later code.\n",
    "    You might find numpy functions np.exp, np.sum, np.reshape,\n",
    "    np.max, and numpy broadcasting useful for this task. (numpy\n",
    "    broadcasting documentation:\n",
    "    http://docs.scipy.org/doc/numpy/user/basics.broadcasting.html)\n",
    "\n",
    "    You should also make sure that your code works for one\n",
    "    dimensional inputs (treat the vector as a row), you might find\n",
    "    it helpful for your later problems.\n",
    "\n",
    "    You must implement the optimization in problem 1(a) of the \n",
    "    written assignment!\n",
    "    \"\"\"\n",
    "\n",
    "    ### YOUR CODE HERE\n",
    "    \n",
    "    if(len(x.shape) > 1): # matrix\n",
    "        rowmax = x.max(axis = 1, keepdims = True)\n",
    "        x = x - rowmax\n",
    "        exp = np.exp(x)\n",
    "        rowsum = exp.sum(axis = 1,keepdims = True)\n",
    "        return exp / rowsum\n",
    "        \n",
    "        \n",
    "    else:  # vector\n",
    "        maxval = x.max()\n",
    "        x = x - maxval\n",
    "        exp = np.exp(x)\n",
    "        sums = exp.sum()\n",
    "        return exp / sums\n",
    "    \n",
    "    "
   ]
  },
  {
   "cell_type": "code",
   "execution_count": null,
   "metadata": {
    "collapsed": true
   },
   "outputs": [],
   "source": []
  }
 ],
 "metadata": {
  "kernelspec": {
   "display_name": "Python 2",
   "language": "python",
   "name": "python2"
  },
  "language_info": {
   "codemirror_mode": {
    "name": "ipython",
    "version": 2
   },
   "file_extension": ".py",
   "mimetype": "text/x-python",
   "name": "python",
   "nbconvert_exporter": "python",
   "pygments_lexer": "ipython2",
   "version": "2.7.12"
  }
 },
 "nbformat": 4,
 "nbformat_minor": 0
}
